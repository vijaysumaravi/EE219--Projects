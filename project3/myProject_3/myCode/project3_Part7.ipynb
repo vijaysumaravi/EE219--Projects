{
 "cells": [
  {
   "cell_type": "markdown",
   "metadata": {},
   "source": [
    "# Part 7:  Performance comparison"
   ]
  },
  {
   "cell_type": "code",
   "execution_count": 4,
   "metadata": {
    "collapsed": true
   },
   "outputs": [],
   "source": [
    "import csv\n",
    "import matplotlib.pyplot as plt\n",
    "import numpy as np\n",
    "from surprise import Dataset\n",
    "from surprise import Reader\n",
    "from surprise.model_selection import cross_validate\n",
    "from surprise.prediction_algorithms import matrix_factorization\n",
    "from surprise import BaselineOnly\n",
    "from surprise import KNNBasic\n",
    "\n",
    "from surprise import accuracy\n",
    "import timeit\n",
    "import os\n",
    "import pandas as pd\n",
    "from surprise.model_selection import KFold\n",
    "from surprise.model_selection import train_test_split\n",
    "from sklearn.metrics import roc_curve, auc\n",
    "#if you ant to save plots, make this variable True\n",
    "savePlots = False"
   ]
  },
  {
   "cell_type": "code",
   "execution_count": 5,
   "metadata": {
    "collapsed": true
   },
   "outputs": [],
   "source": [
    "file_path = os.path.expanduser('/Users/vijayravi/Documents/UCLA/Coursework/2018Winter/dataMining/projects/project3/resources/ratings.csv')\n",
    "reader = Reader(line_format='user item rating timestamp', sep=',', skip_lines=1)\n",
    "data = Dataset.load_from_file(file_path, reader=reader)"
   ]
  },
  {
   "cell_type": "markdown",
   "metadata": {},
   "source": [
    "### Question 34"
   ]
  },
  {
   "cell_type": "code",
   "execution_count": 10,
   "metadata": {},
   "outputs": [
    {
     "name": "stdout",
     "output_type": "stream",
     "text": [
      "Computing the pearson similarity matrix...\n",
      "Done computing similarity matrix.\n"
     ]
    }
   ],
   "source": [
    "sim_options = {'name': 'pearson'}\n",
    "\n",
    "trainset, testset = train_test_split(data, test_size=.10)\n",
    "\n",
    "\n",
    "algoKNN = KNNBasic(k=38, sim_options=sim_options)\n",
    "algoKNN.fit(trainset)\n",
    "predictionsKNN = algoKNN.test(testset)\n",
    "\n",
    "\n",
    "algoNMF = matrix_factorization.NMF(n_factors=18) \n",
    "algoNMF.fit(trainset)\n",
    "predictionsNMF = algoNMF.test(testset)\n",
    "\n",
    "algoMF = matrix_factorization.SVD(n_factors=12) \n",
    "algoMF.fit(trainset)\n",
    "predictionsMF = algoMF.test(testset)"
   ]
  },
  {
   "cell_type": "code",
   "execution_count": 11,
   "metadata": {},
   "outputs": [
    {
     "name": "stdout",
     "output_type": "stream",
     "text": [
      " Area under the curve for KNN is,  0.7140402558227885\n",
      " Area under the curve for NMF is,  0.7693860193823834\n",
      " Area under the curve for MF is,  0.7930030722059295\n"
     ]
    },
    {
     "data": {
      "image/png": "[encoded data removed]",
      "text/plain": [
       "<matplotlib.figure.Figure at 0x112014790>"
      ]
     },
     "metadata": {},
     "output_type": "display_data"
    }
   ],
   "source": [
    "plt.figure()\n",
    "\n",
    "#KNN\n",
    "trueValue = []\n",
    "predValue = []\n",
    "\n",
    "for i in range(len(testset)):\n",
    "    if testset[i][2] >= 3: #threshold\n",
    "        trueValue.append(1)\n",
    "    else:\n",
    "        trueValue.append(0)\n",
    "\n",
    "    predValue.append(predictionsKNN[i][3])\n",
    "\n",
    "fpr, tpr, thresholds = roc_curve(trueValue,predValue)\n",
    "roc_auc = auc(fpr, tpr)\n",
    "print \" Area under the curve for KNN is, \", roc_auc\n",
    "plt.plot(fpr, tpr, label='ROC curve for KNN')\n",
    "\n",
    "#NMF\n",
    "trueValue = []\n",
    "predValue = []\n",
    "\n",
    "for i in range(len(testset)):\n",
    "    if testset[i][2] >= 3: #threshold\n",
    "        trueValue.append(1)\n",
    "    else:\n",
    "        trueValue.append(0)\n",
    "\n",
    "    predValue.append(predictionsNMF[i][3])\n",
    "\n",
    "fpr, tpr, thresholds = roc_curve(trueValue,predValue)\n",
    "roc_auc = auc(fpr, tpr)\n",
    "print \" Area under the curve for NMF is, \", roc_auc\n",
    "plt.plot(fpr, tpr, label='ROC curve for NMF')\n",
    "\n",
    "\n",
    "#MF\n",
    "trueValue = []\n",
    "predValue = []\n",
    "\n",
    "for i in range(len(testset)):\n",
    "    if testset[i][2] >= 3: #threshold\n",
    "        trueValue.append(1)\n",
    "    else:\n",
    "        trueValue.append(0)\n",
    "\n",
    "    predValue.append(predictionsMF[i][3])\n",
    "\n",
    "fpr, tpr, thresholds = roc_curve(trueValue,predValue)\n",
    "roc_auc = auc(fpr, tpr)\n",
    "print \" Area under the curve for MF is, \", roc_auc\n",
    "plt.plot(fpr, tpr, label='ROC curve for MF')\n",
    "\n",
    "\n",
    "\n",
    "\n",
    "plt.xlabel('False Positive Rate')\n",
    "plt.ylabel('True Positive Rate')\n",
    "plt.title('Receiver operating characteristic Comparison' )\n",
    "plt.legend(loc=\"lower right\")\n",
    "plt.show()\n",
    "if savePlots:\n",
    "     plt.savefig(\"roc_comparison_Q34\", format='png') \n",
    "plt.show()"
   ]
  },
  {
   "cell_type": "code",
   "execution_count": null,
   "metadata": {
    "collapsed": true
   },
   "outputs": [],
   "source": []
  }
 ],
 "metadata": {
  "kernelspec": {
   "display_name": "Python 2",
   "language": "python",
   "name": "python2"
  },
  "language_info": {
   "codemirror_mode": {
    "name": "ipython",
    "version": 2
   },
   "file_extension": ".py",
   "mimetype": "text/x-python",
   "name": "python",
   "nbconvert_exporter": "python",
   "pygments_lexer": "ipython2",
   "version": "2.7.13"
  }
 },
 "nbformat": 4,
 "nbformat_minor": 2
}
