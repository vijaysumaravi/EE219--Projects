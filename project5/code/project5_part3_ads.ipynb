{
 "cells": [
  {
   "cell_type": "code",
   "execution_count": 59,
   "metadata": {},
   "outputs": [],
   "source": [
    "import json\n",
    "import numpy as np\n",
    "from textblob import TextBlob\n",
    "import matplotlib.pyplot as plt\n",
    "import pandas as pd\n",
    "from pandas import DataFrame\n",
    "from sklearn.linear_model import LinearRegression\n",
    "import statsmodels.api as sm"
   ]
  },
  {
   "cell_type": "code",
   "execution_count": 60,
   "metadata": {
    "collapsed": true
   },
   "outputs": [],
   "source": [
    "def get_data(hashtag):\n",
    "    dictionary = {'#GoHawks' : ['tweets_#gohawks.txt', 188136],\n",
    "                    '#GoPatriots' : ['tweets_#gopatriots.txt', 26232],\n",
    "                    '#NFL' : ['tweets_#nfl.txt', 259024],\n",
    "                    '#Patriots' : ['tweets_#patriots.txt', 489713],\n",
    "                    '#SB49' : ['tweets_#sb49.txt', 826951],\n",
    "                    '#SuperBowl' : ['tweets_#superbowl.txt', 1348767]}\n",
    "    \n",
    "    \n",
    "    time_stamp = np.zeros(dictionary[hashtag][1])\n",
    "    tweets = [0]*dictionary[hashtag][1]\n",
    "    file = open('./tweet_data/'+dictionary[hashtag][0])\n",
    "    for (line, index) in zip(file, range(0, dictionary[hashtag][1])):\n",
    "        data = json.loads(line)\n",
    "        time_stamp[index] = data['firstpost_date']\n",
    "        tweets[index] = data['tweet']['text']\n",
    "    file.close()\n",
    "    \n",
    "    five_hour_index = []\n",
    "    for i in range(dictionary[hashtag][1]):\n",
    "        if time_stamp[i] > 1422804600 and time_stamp[i] < 1422864000:\n",
    "            five_hour_index.append(i)\n",
    "    five_hour_tweets = []\n",
    "    for j in five_hour_index:\n",
    "        five_hour_tweets.append(tweets[j])\n",
    "    \n",
    "    \n",
    "    budweiser_tweet = []\n",
    "    bmw_tweet = []\n",
    "    toyota_tweet = []\n",
    "    kia_tweet = []\n",
    "    snickers_tweet = []\n",
    "    tmobile_tweet = []\n",
    "    mountain_dew_tweet = []\n",
    "    mcdonalds_tweet = []\n",
    "    budlight_tweet = []\n",
    "    skittles_tweet = []\n",
    "    nissan_tweet = []\n",
    "    doritos_tweet = []\n",
    "    \n",
    "    key_words = ['budweiser', 'bmw', 'kia', 'toyota', 'snickers', 'tmobile', 'mountain dew', 'mcdonalds', 'budlight', 'skittles', 'nissan', 'doritos']\n",
    "    for tweet in five_hour_tweets:\n",
    "        if tweet.find(key_words[0]) >= 0:\n",
    "            budweiser_tweet.append(tweet)\n",
    "        elif tweet.find(key_words[1]) >= 0:\n",
    "            bmw_tweet.append(tweet)\n",
    "        elif tweet.find(key_words[2]) >= 0:\n",
    "            kia_tweet.append(tweet)\n",
    "        elif tweet.find(key_words[3]) >= 0:\n",
    "            toyota_tweet.append(tweet)\n",
    "        elif tweet.find(key_words[4]) >= 0:\n",
    "            snickers_tweet.append(tweet)\n",
    "        elif tweet.find(key_words[5]) >= 0:\n",
    "            tmobile_tweet.append(tweet)\n",
    "        elif tweet.find(key_words[6]) >= 0:\n",
    "            mountain_dew_tweet.append(tweet)\n",
    "        elif tweet.find(key_words[7]) >= 0:\n",
    "            mcdonalds_tweet.append(tweet)\n",
    "        elif tweet.find(key_words[8]) >= 0:\n",
    "            budlight_tweet.append(tweet)\n",
    "        elif tweet.find(key_words[9]) >= 0:\n",
    "            skittles_tweet.append(tweet)\n",
    "        elif tweet.find(key_words[10]) >= 0:\n",
    "            nissan_tweet.append(tweet)\n",
    "        elif tweet.find(key_words[11]) >= 0:\n",
    "            doritos_tweet.append(tweet)\n",
    "    return budweiser_tweet, bmw_tweet, toyota_tweet, kia_tweet, snickers_tweet, tmobile_tweet, mountain_dew_tweet, mcdonalds_tweet, budlight_tweet, skittles_tweet, nissan_tweet, doritos_tweet"
   ]
  },
  {
   "cell_type": "code",
   "execution_count": 61,
   "metadata": {
    "collapsed": true
   },
   "outputs": [],
   "source": [
    "from string import punctuation\n",
    "def strip_punctuation(s):\n",
    "    return ''.join(c for c in s if c not in punctuation)"
   ]
  },
  {
   "cell_type": "code",
   "execution_count": 62,
   "metadata": {},
   "outputs": [],
   "source": [
    "all_budweiser_tweet = []\n",
    "all_bmw_tweet = []\n",
    "all_toyota_tweet = []\n",
    "all_kia_tweet = []\n",
    "all_snickers_tweet = []\n",
    "all_tmobile_tweet = []\n",
    "all_mountain_dew_tweet = []\n",
    "all_mcdonalds_tweet = []\n",
    "all_budlight_tweet = []\n",
    "all_skittles_tweet = []\n",
    "all_nissan_tweet = []\n",
    "all_doritos_tweet = []\n",
    "\n",
    "budweiser_tweet, bmw_tweet, toyota_tweet, kia_tweet, snickers_tweet, tmobile_tweet, mountain_dew_tweet, mcdonalds_tweet, budlight_tweet, skittles_tweet, nissan_tweet, doritos_tweet = get_data('#SB49')\n",
    "all_budweiser_tweet += budweiser_tweet\n",
    "all_bmw_tweet += bmw_tweet\n",
    "all_toyota_tweet += toyota_tweet\n",
    "all_kia_tweet += kia_tweet\n",
    "all_snickers_tweet += snickers_tweet\n",
    "all_tmobile_tweet += tmobile_tweet\n",
    "all_mountain_dew_tweet += mountain_dew_tweet\n",
    "all_mcdonalds_tweet += mcdonalds_tweet\n",
    "all_budlight_tweet += budlight_tweet\n",
    "all_skittles_tweet += skittles_tweet\n",
    "all_nissan_tweet += nissan_tweet\n",
    "all_doritos_tweet += doritos_tweet\n",
    "budweiser_tweet, bmw_tweet, toyota_tweet, kia_tweet, snickers_tweet, tmobile_tweet, mountain_dew_tweet, mcdonalds_tweet, budlight_tweet, skittles_tweet, nissan_tweet, doritos_tweet = get_data('#SuperBowl')\n",
    "all_budweiser_tweet += budweiser_tweet\n",
    "all_bmw_tweet += bmw_tweet\n",
    "all_toyota_tweet += toyota_tweet\n",
    "all_kia_tweet += kia_tweet\n",
    "all_snickers_tweet += snickers_tweet\n",
    "all_tmobile_tweet += tmobile_tweet\n",
    "all_mountain_dew_tweet += mountain_dew_tweet\n",
    "all_mcdonalds_tweet += mcdonalds_tweet\n",
    "all_budlight_tweet += budlight_tweet\n",
    "all_skittles_tweet += skittles_tweet\n",
    "all_nissan_tweet += nissan_tweet\n",
    "all_doritos_tweet += doritos_tweet"
   ]
  },
  {
   "cell_type": "code",
   "execution_count": 63,
   "metadata": {
    "collapsed": true
   },
   "outputs": [],
   "source": [
    "from string import punctuation\n",
    "def strip_punctuation(s):\n",
    "    return ''.join(c for c in s if c not in punctuation)"
   ]
  },
  {
   "cell_type": "code",
   "execution_count": 64,
   "metadata": {},
   "outputs": [
    {
     "name": "stdout",
     "output_type": "stream",
     "text": [
      "Average Budweiser Sentiment was 0.12208970552948946\n",
      "Number of people who had something positive to say 477\n",
      "Number of people who had something negative to say 82\n"
     ]
    }
   ],
   "source": [
    "sentiment = []\n",
    "\n",
    "for tweet in all_budweiser_tweet:\n",
    "    tweet = strip_punctuation(tweet)\n",
    "    blob = TextBlob(tweet)\n",
    "    sentiment.append(blob.sentences[0].sentiment.polarity)\n",
    "\n",
    "total_sentiment = 0\n",
    "positive_sentiment = 0\n",
    "negative_sentiment = 0\n",
    "for i in sentiment:\n",
    "    total_sentiment += i\n",
    "    if i >= 0:\n",
    "        positive_sentiment += 1\n",
    "    else:\n",
    "        negative_sentiment += 1\n",
    "\n",
    "average_sentiment = total_sentiment / len(sentiment)\n",
    "print('Average Budweiser Sentiment was', average_sentiment)\n",
    "print('Number of people who had something positive to say', positive_sentiment)\n",
    "print('Number of people who had something negative to say', negative_sentiment)"
   ]
  },
  {
   "cell_type": "code",
   "execution_count": 65,
   "metadata": {},
   "outputs": [
    {
     "name": "stdout",
     "output_type": "stream",
     "text": [
      "Average BMW Sentiment was 0.2472814377227319\n",
      "Number of people who had something positive to say 584\n",
      "Number of people who had something negative to say 42\n"
     ]
    }
   ],
   "source": [
    "sentiment = []\n",
    "\n",
    "for tweet in all_bmw_tweet:\n",
    "    tweet = strip_punctuation(tweet)\n",
    "    blob = TextBlob(tweet)\n",
    "    sentiment.append(blob.sentences[0].sentiment.polarity)\n",
    "\n",
    "total_sentiment = 0\n",
    "positive_sentiment = 0\n",
    "negative_sentiment = 0\n",
    "for i in sentiment:\n",
    "    total_sentiment += i\n",
    "    if i >= 0:\n",
    "        positive_sentiment += 1\n",
    "    else:\n",
    "        negative_sentiment += 1\n",
    "\n",
    "average_sentiment = total_sentiment / len(sentiment)\n",
    "print('Average BMW Sentiment was', average_sentiment)\n",
    "print('Number of people who had something positive to say', positive_sentiment)\n",
    "print('Number of people who had something negative to say', negative_sentiment)"
   ]
  },
  {
   "cell_type": "code",
   "execution_count": 66,
   "metadata": {},
   "outputs": [
    {
     "name": "stdout",
     "output_type": "stream",
     "text": [
      "181\n",
      "Average Toyota Sentiment was 0.1439543720552008\n",
      "Number of people who had something positive to say 154\n",
      "Number of people who had something negative to say 27\n"
     ]
    }
   ],
   "source": [
    "sentiment = []\n",
    "for tweet in all_toyota_tweet:\n",
    "    tweet = strip_punctuation(tweet)\n",
    "    blob = TextBlob(tweet)\n",
    "    sentiment.append(blob.sentences[0].sentiment.polarity)\n",
    "\n",
    "total_sentiment = 0\n",
    "positive_sentiment = 0\n",
    "negative_sentiment = 0\n",
    "for i in sentiment:\n",
    "    total_sentiment += i\n",
    "    if i >= 0:\n",
    "        positive_sentiment += 1\n",
    "    else:\n",
    "        negative_sentiment += 1\n",
    "\n",
    "average_sentiment = total_sentiment / len(sentiment)\n",
    "print('Average Toyota Sentiment was', average_sentiment)\n",
    "print('Number of people who had something positive to say', positive_sentiment)\n",
    "print('Number of people who had something negative to say', negative_sentiment)"
   ]
  },
  {
   "cell_type": "code",
   "execution_count": 67,
   "metadata": {},
   "outputs": [
    {
     "name": "stdout",
     "output_type": "stream",
     "text": [
      "Average Kia Sentiment was 0.11360315338256519\n",
      "Number of people who had something positive to say 153\n",
      "Number of people who had something negative to say 17\n"
     ]
    }
   ],
   "source": [
    "sentiment = []\n",
    "for tweet in all_kia_tweet:\n",
    "    tweet = strip_punctuation(tweet)\n",
    "    blob = TextBlob(tweet)\n",
    "    sentiment.append(blob.sentences[0].sentiment.polarity)\n",
    "\n",
    "total_sentiment = 0\n",
    "positive_sentiment = 0\n",
    "negative_sentiment = 0\n",
    "for i in sentiment:\n",
    "    total_sentiment += i\n",
    "    if i >= 0:\n",
    "        positive_sentiment += 1\n",
    "    else:\n",
    "        negative_sentiment += 1\n",
    "\n",
    "average_sentiment = total_sentiment / len(sentiment)\n",
    "print('Average Kia Sentiment was', average_sentiment)\n",
    "print('Number of people who had something positive to say', positive_sentiment)\n",
    "print('Number of people who had something negative to say', negative_sentiment)"
   ]
  },
  {
   "cell_type": "code",
   "execution_count": 68,
   "metadata": {},
   "outputs": [
    {
     "name": "stdout",
     "output_type": "stream",
     "text": [
      "Average Snickers Sentiment was 0.2039196309837062\n",
      "Number of people who had something positive to say 548\n",
      "Number of people who had something negative to say 47\n"
     ]
    }
   ],
   "source": [
    "sentiment = []\n",
    "for tweet in all_snickers_tweet:\n",
    "    tweet = strip_punctuation(tweet)\n",
    "    blob = TextBlob(tweet)\n",
    "    sentiment.append(blob.sentences[0].sentiment.polarity)\n",
    "\n",
    "total_sentiment = 0\n",
    "positive_sentiment = 0\n",
    "negative_sentiment = 0\n",
    "for i in sentiment:\n",
    "    total_sentiment += i\n",
    "    if i >= 0:\n",
    "        positive_sentiment += 1\n",
    "    else:\n",
    "        negative_sentiment += 1\n",
    "\n",
    "average_sentiment = total_sentiment / len(sentiment)\n",
    "print('Average Snickers Sentiment was', average_sentiment)\n",
    "print('Number of people who had something positive to say', positive_sentiment)\n",
    "print('Number of people who had something negative to say', negative_sentiment)"
   ]
  },
  {
   "cell_type": "code",
   "execution_count": 69,
   "metadata": {},
   "outputs": [
    {
     "name": "stdout",
     "output_type": "stream",
     "text": [
      "Average T-Mobile Sentiment was 0.011720129339614636\n",
      "Number of people who had something positive to say 502\n",
      "Number of people who had something negative to say 42\n"
     ]
    }
   ],
   "source": [
    "sentiment = []\n",
    "for tweet in all_tmobile_tweet:\n",
    "    tweet = strip_punctuation(tweet)\n",
    "    blob = TextBlob(tweet)\n",
    "    sentiment.append(blob.sentences[0].sentiment.polarity)\n",
    "\n",
    "total_sentiment = 0\n",
    "positive_sentiment = 0\n",
    "negative_sentiment = 0\n",
    "for i in sentiment:\n",
    "    total_sentiment += i\n",
    "    if i >= 0:\n",
    "        positive_sentiment += 1\n",
    "    else:\n",
    "        negative_sentiment += 1\n",
    "\n",
    "average_sentiment = total_sentiment / len(sentiment)\n",
    "print('Average T-Mobile Sentiment was', average_sentiment)\n",
    "print('Number of people who had something positive to say', positive_sentiment)\n",
    "print('Number of people who had something negative to say', negative_sentiment)"
   ]
  },
  {
   "cell_type": "code",
   "execution_count": 71,
   "metadata": {},
   "outputs": [
    {
     "name": "stdout",
     "output_type": "stream",
     "text": [
      "Average Mountain Dew Sentiment was 0.16903629316420016\n",
      "Number of people who had something positive to say 35\n",
      "Number of people who had something negative to say 8\n"
     ]
    }
   ],
   "source": [
    "sentiment = []\n",
    "for tweet in all_mountain_dew_tweet:\n",
    "    tweet = strip_punctuation(tweet)\n",
    "    blob = TextBlob(tweet)\n",
    "    sentiment.append(blob.sentences[0].sentiment.polarity)\n",
    "\n",
    "total_sentiment = 0\n",
    "positive_sentiment = 0\n",
    "negative_sentiment = 0\n",
    "for i in sentiment:\n",
    "    total_sentiment += i\n",
    "    if i >= 0:\n",
    "        positive_sentiment += 1\n",
    "    else:\n",
    "        negative_sentiment += 1\n",
    "\n",
    "average_sentiment = total_sentiment / len(sentiment)\n",
    "print('Average Mountain Dew Sentiment was', average_sentiment)\n",
    "print('Number of people who had something positive to say', positive_sentiment)\n",
    "print('Number of people who had something negative to say', negative_sentiment)"
   ]
  },
  {
   "cell_type": "code",
   "execution_count": 73,
   "metadata": {},
   "outputs": [
    {
     "name": "stdout",
     "output_type": "stream",
     "text": [
      "Average McDonalds Sentiment was 0.19973443930041143\n",
      "Number of people who had something positive to say 191\n",
      "Number of people who had something negative to say 25\n"
     ]
    }
   ],
   "source": [
    "sentiment = []\n",
    "for tweet in all_mcdonalds_tweet:\n",
    "    tweet = strip_punctuation(tweet)\n",
    "    blob = TextBlob(tweet)\n",
    "    sentiment.append(blob.sentences[0].sentiment.polarity)\n",
    "\n",
    "total_sentiment = 0\n",
    "positive_sentiment = 0\n",
    "negative_sentiment = 0\n",
    "for i in sentiment:\n",
    "    total_sentiment += i\n",
    "    if i >= 0:\n",
    "        positive_sentiment += 1\n",
    "    else:\n",
    "        negative_sentiment += 1\n",
    "\n",
    "average_sentiment = total_sentiment / len(sentiment)\n",
    "print('Average McDonalds Sentiment was', average_sentiment)\n",
    "print('Number of people who had something positive to say', positive_sentiment)\n",
    "print('Number of people who had something negative to say', negative_sentiment)"
   ]
  },
  {
   "cell_type": "code",
   "execution_count": 74,
   "metadata": {},
   "outputs": [
    {
     "name": "stdout",
     "output_type": "stream",
     "text": [
      "Average Budlight Sentiment was 0.1184696543655799\n",
      "Number of people who had something positive to say 971\n",
      "Number of people who had something negative to say 158\n"
     ]
    }
   ],
   "source": [
    "sentiment = []\n",
    "for tweet in all_budlight_tweet:\n",
    "    tweet = strip_punctuation(tweet)\n",
    "    blob = TextBlob(tweet)\n",
    "    sentiment.append(blob.sentences[0].sentiment.polarity)\n",
    "\n",
    "total_sentiment = 0\n",
    "positive_sentiment = 0\n",
    "negative_sentiment = 0\n",
    "for i in sentiment:\n",
    "    total_sentiment += i\n",
    "    if i >= 0:\n",
    "        positive_sentiment += 1\n",
    "    else:\n",
    "        negative_sentiment += 1\n",
    "\n",
    "average_sentiment = total_sentiment / len(sentiment)\n",
    "print('Average Budlight Sentiment was', average_sentiment)\n",
    "print('Number of people who had something positive to say', positive_sentiment)\n",
    "print('Number of people who had something negative to say', negative_sentiment)"
   ]
  },
  {
   "cell_type": "code",
   "execution_count": 75,
   "metadata": {},
   "outputs": [
    {
     "name": "stdout",
     "output_type": "stream",
     "text": [
      "Average Skittles Sentiment was 0.07724118506436049\n",
      "Number of people who had something positive to say 1660\n",
      "Number of people who had something negative to say 272\n"
     ]
    }
   ],
   "source": [
    "sentiment = []\n",
    "for tweet in all_skittles_tweet:\n",
    "    tweet = strip_punctuation(tweet)\n",
    "    blob = TextBlob(tweet)\n",
    "    sentiment.append(blob.sentences[0].sentiment.polarity)\n",
    "\n",
    "total_sentiment = 0\n",
    "positive_sentiment = 0\n",
    "negative_sentiment = 0\n",
    "for i in sentiment:\n",
    "    total_sentiment += i\n",
    "    if i >= 0:\n",
    "        positive_sentiment += 1\n",
    "    else:\n",
    "        negative_sentiment += 1\n",
    "\n",
    "average_sentiment = total_sentiment / len(sentiment)\n",
    "print('Average Skittles Sentiment was', average_sentiment)\n",
    "print('Number of people who had something positive to say', positive_sentiment)\n",
    "print('Number of people who had something negative to say', negative_sentiment)"
   ]
  },
  {
   "cell_type": "code",
   "execution_count": 76,
   "metadata": {},
   "outputs": [
    {
     "name": "stdout",
     "output_type": "stream",
     "text": [
      "Average Nissan Sentiment was 0.0948420199997302\n",
      "Number of people who had something positive to say 333\n",
      "Number of people who had something negative to say 95\n"
     ]
    }
   ],
   "source": [
    "sentiment = []\n",
    "for tweet in all_nissan_tweet:\n",
    "    tweet = strip_punctuation(tweet)\n",
    "    blob = TextBlob(tweet)\n",
    "    sentiment.append(blob.sentences[0].sentiment.polarity)\n",
    "\n",
    "total_sentiment = 0\n",
    "positive_sentiment = 0\n",
    "negative_sentiment = 0\n",
    "for i in sentiment:\n",
    "    total_sentiment += i\n",
    "    if i >= 0:\n",
    "        positive_sentiment += 1\n",
    "    else:\n",
    "        negative_sentiment += 1\n",
    "\n",
    "average_sentiment = total_sentiment / len(sentiment)\n",
    "print('Average Nissan Sentiment was', average_sentiment)\n",
    "print('Number of people who had something positive to say', positive_sentiment)\n",
    "print('Number of people who had something negative to say', negative_sentiment)"
   ]
  },
  {
   "cell_type": "code",
   "execution_count": 77,
   "metadata": {},
   "outputs": [
    {
     "name": "stdout",
     "output_type": "stream",
     "text": [
      "Average Doritos Sentiment was 0.17003734242996357\n",
      "Number of people who had something positive to say 405\n",
      "Number of people who had something negative to say 49\n"
     ]
    }
   ],
   "source": [
    "sentiment = []\n",
    "for tweet in all_doritos_tweet:\n",
    "    tweet = strip_punctuation(tweet)\n",
    "    blob = TextBlob(tweet)\n",
    "    sentiment.append(blob.sentences[0].sentiment.polarity)\n",
    "\n",
    "total_sentiment = 0\n",
    "positive_sentiment = 0\n",
    "negative_sentiment = 0\n",
    "for i in sentiment:\n",
    "    total_sentiment += i\n",
    "    if i >= 0:\n",
    "        positive_sentiment += 1\n",
    "    else:\n",
    "        negative_sentiment += 1\n",
    "\n",
    "average_sentiment = total_sentiment / len(sentiment)\n",
    "print('Average Doritos Sentiment was', average_sentiment)\n",
    "print('Number of people who had something positive to say', positive_sentiment)\n",
    "print('Number of people who had something negative to say', negative_sentiment)"
   ]
  },
  {
   "cell_type": "markdown",
   "metadata": {},
   "source": [
    "<h2> As can be seen, BMW had the best response from the commercials we decided to analyze </h2>"
   ]
  }
 ],
 "metadata": {
  "kernelspec": {
   "display_name": "Python 3",
   "language": "python",
   "name": "python3"
  },
  "language_info": {
   "codemirror_mode": {
    "name": "ipython",
    "version": 3
   },
   "file_extension": ".py",
   "mimetype": "text/x-python",
   "name": "python",
   "nbconvert_exporter": "python",
   "pygments_lexer": "ipython3",
   "version": "3.6.3"
  }
 },
 "nbformat": 4,
 "nbformat_minor": 2
}
