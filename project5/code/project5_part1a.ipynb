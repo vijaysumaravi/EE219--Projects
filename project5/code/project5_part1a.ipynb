{
 "cells": [
  {
   "cell_type": "code",
   "execution_count": 3,
   "metadata": {
    "collapsed": true
   },
   "outputs": [],
   "source": [
    "import json\n",
    "import matplotlib.pyplot as plt\n",
    "import numpy as np"
   ]
  },
  {
   "cell_type": "code",
   "execution_count": 4,
   "metadata": {},
   "outputs": [],
   "source": [
    "def get_data(hashtag):\n",
    "    dictionary = {'#GoHawks': 'tweets_#gohawks.txt',\n",
    "                     '#GoPatriots': 'tweets_#gopatriots.txt',\n",
    "                  '#Patriots': 'tweets_#patriots.txt',\n",
    "                     '#NFL': 'tweets_#nfl.txt',\n",
    "                     '#SB49': 'tweets_#sb49.txt',\n",
    "                     '#SuperBowl': 'tweets_#superbowl.txt'}\n",
    "    time_stamp = []\n",
    "    number_of_followers = []\n",
    "    number_of_retweets = []\n",
    "    file = open('./tweet_data/'+dictionary[hashtag])\n",
    "    # need to handle duplicates in users tweeting for actual number of users and for the number of followers\n",
    "    authors = set()\n",
    "    for line in file:\n",
    "        data = json.loads(line)\n",
    "        time_stamp.append(data['citation_date'])\n",
    "        number_of_retweets.append(data['metrics']['citations']['total'])\n",
    "        if data['tweet']['user']['id'] not in authors:\n",
    "            authors.add(data['tweet']['user']['id'])\n",
    "            number_of_followers.append(data['author']['followers'])\n",
    "    file.close()\n",
    "    number_of_users = len(authors)\n",
    "    return time_stamp, number_of_followers, number_of_retweets, number_of_users"
   ]
  },
  {
   "cell_type": "code",
   "execution_count": 5,
   "metadata": {
    "collapsed": true
   },
   "outputs": [],
   "source": [
    "def calculations(hashtag):\n",
    "    time_stamp, number_of_followers, number_of_retweets, number_of_users = get_data(hashtag)\n",
    "    total_number_of_tweets = len(time_stamp)\n",
    "    hours = float(max(time_stamp)-min(time_stamp))/3600.0\n",
    "    total_number_of_retweets = sum(number_of_retweets)\n",
    "    total_number_of_followers = sum(number_of_followers)\n",
    "    print('The hashtag being processed is:', hashtag)\n",
    "    print('Average number of tweets per hour:', (total_number_of_tweets/hours))\n",
    "    print('Average number of followers of users posting the tweets:', (total_number_of_followers/number_of_users))\n",
    "    print('Average number of retweets:', total_number_of_retweets/total_number_of_tweets, '\\n')\n",
    "    return time_stamp"
   ]
  },
  {
   "cell_type": "code",
   "execution_count": 6,
   "metadata": {
    "collapsed": true
   },
   "outputs": [],
   "source": [
    "def plot(time_stamp, hashtag):\n",
    "    hourly_tweets = [0] * int((max(time_stamp)-min(time_stamp))/3600+1)\n",
    "    start = min(time_stamp)\n",
    "    for time in time_stamp:\n",
    "        hourly_tweets[int((time-start)/3600)] += 1\n",
    "    plt.bar([i for i in range(0,len(hourly_tweets))], hourly_tweets)\n",
    "    plt.xlabel('Hours')\n",
    "    plt.ylabel('Number of Tweets')\n",
    "    plt.title('Hours VS Number of Tweets for '+ str(hashtag))\n",
    "    plt.show()"
   ]
  },
  {
   "cell_type": "code",
   "execution_count": 7,
   "metadata": {},
   "outputs": [
    {
     "name": "stdout",
     "output_type": "stream",
     "text": [
      "The hashtag being processed is: #NFL\n",
      "Average number of tweets per hour: 441.3234311373958\n",
      "Average number of followers of users posting the tweets: 4289.746617531629\n",
      "Average number of retweets: 1.5385331089011056 \n",
      "\n"
     ]
    },
    {
     "data": {
      "image/png": "[encoded data removed]",
      "text/plain": [
       "<matplotlib.figure.Figure at 0x1095e8cc0>"
      ]
     },
     "metadata": {},
     "output_type": "display_data"
    },
    {
     "name": "stdout",
     "output_type": "stream",
     "text": [
      "The hashtag being processed is: #SuperBowl\n",
      "Average number of tweets per hour: 2302.5004018833274\n",
      "Average number of followers of users posting the tweets: 3591.604474474039\n",
      "Average number of retweets: 2.3882723999030224 \n",
      "\n"
     ]
    },
    {
     "data": {
      "image/png": "[encoded data removed]",
      "text/plain": [
       "<matplotlib.figure.Figure at 0x10a4f09b0>"
      ]
     },
     "metadata": {},
     "output_type": "display_data"
    },
    {
     "name": "stdout",
     "output_type": "stream",
     "text": [
      "The hashtag being processed is: #Patriots\n",
      "Average number of tweets per hour: 834.5555091641886\n",
      "Average number of followers of users posting the tweets: 1650.321982506216\n",
      "Average number of retweets: 1.7828156491659402 \n",
      "\n",
      "The hashtag being processed is: #GoHawks\n",
      "Average number of tweets per hour: 325.37159130433116\n",
      "Average number of followers of users posting the tweets: 1544.9697802197802\n",
      "Average number of retweets: 2.014617085512608 \n",
      "\n",
      "The hashtag being processed is: #GoPatriots\n",
      "Average number of tweets per hour: 45.69451057356203\n",
      "Average number of followers of users posting the tweets: 1298.8242710358234\n",
      "Average number of retweets: 1.4000838670326319 \n",
      "\n",
      "The hashtag being processed is: #SB49\n",
      "Average number of tweets per hour: 1419.8879074871902\n",
      "Average number of followers of users posting the tweets: 2235.1636799951193\n",
      "Average number of retweets: 2.5111487863247035 \n",
      "\n"
     ]
    }
   ],
   "source": [
    "hashtags = ['#NFL', '#SuperBowl', '#Patriots', '#GoHawks', '#GoPatriots', '#SB49']\n",
    "for i in hashtags:\n",
    "    time_stamp = calculations(i)\n",
    "    if i in ['#NFL', '#SuperBowl']:\n",
    "        plot(time_stamp, i)"
   ]
  },
  {
   "cell_type": "code",
   "execution_count": null,
   "metadata": {
    "collapsed": true
   },
   "outputs": [],
   "source": []
  }
 ],
 "metadata": {
  "kernelspec": {
   "display_name": "Python 3",
   "language": "python",
   "name": "python3"
  },
  "language_info": {
   "codemirror_mode": {
    "name": "ipython",
    "version": 3
   },
   "file_extension": ".py",
   "mimetype": "text/x-python",
   "name": "python",
   "nbconvert_exporter": "python",
   "pygments_lexer": "ipython3",
   "version": "3.6.3"
  }
 },
 "nbformat": 4,
 "nbformat_minor": 2
}
