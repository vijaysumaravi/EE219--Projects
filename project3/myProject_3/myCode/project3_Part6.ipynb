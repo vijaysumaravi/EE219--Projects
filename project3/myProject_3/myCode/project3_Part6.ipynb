{
 "cells": [
  {
   "cell_type": "markdown",
   "metadata": {},
   "source": [
    "# Part 6: Naive collaborative filtering"
   ]
  },
  {
   "cell_type": "code",
   "execution_count": 1,
   "metadata": {
    "collapsed": true
   },
   "outputs": [],
   "source": [
    "import csv\n",
    "import matplotlib.pyplot as plt\n",
    "import numpy as np\n",
    "from surprise import Dataset\n",
    "from surprise import Reader\n",
    "from surprise.model_selection import cross_validate\n",
    "from surprise.prediction_algorithms import matrix_factorization\n",
    "from surprise import BaselineOnly\n",
    "from sklearn.metrics import mean_squared_error\n",
    "from math import sqrt\n",
    "from surprise import accuracy\n",
    "import timeit\n",
    "import os\n",
    "import pandas as pd\n",
    "from surprise.model_selection import KFold\n",
    "from surprise.model_selection import train_test_split\n",
    "from sklearn.metrics import roc_curve, auc\n",
    "#if you ant to save plots, make this variable True\n",
    "savePlots = False"
   ]
  },
  {
   "cell_type": "code",
   "execution_count": 103,
   "metadata": {
    "collapsed": true
   },
   "outputs": [],
   "source": [
    "file_path = os.path.expanduser('/Users/vijayravi/Documents/UCLA/Coursework/2018Winter/dataMining/projects/project3/resources/ratings.csv')\n",
    "reader = Reader(line_format='user item rating timestamp', sep=',', skip_lines=1)\n",
    "data = Dataset.load_from_file(file_path, reader=reader)"
   ]
  },
  {
   "cell_type": "code",
   "execution_count": 104,
   "metadata": {},
   "outputs": [
    {
     "name": "stdout",
     "output_type": "stream",
     "text": [
      "<_csv.reader object at 0x11597ae50>\n"
     ]
    }
   ],
   "source": [
    "with open('ratings.csv', 'r') as f:\n",
    "        next(f)\n",
    "        reader = csv.reader(f)\n",
    "        print reader\n",
    "        userRating = np.zeros(671)\n",
    "        count = np.zeros(671)\n",
    "        for row in reader:\n",
    "            userRating[int(row[0])-1] +=  float(row[2])\n",
    "            count[int(row[0])-1] += 1\n",
    "          \n",
    "\n",
    "        for i in range(len(userRating)):\n",
    "             userRating[i] /= count[i]"
   ]
  },
  {
   "cell_type": "code",
   "execution_count": 105,
   "metadata": {
    "collapsed": true
   },
   "outputs": [],
   "source": [
    "def predFunc(testData):\n",
    "    NBdata = np.zeros(len(testData))\n",
    "    trueData = np.zeros(len(testData))\n",
    "    for i in range(len(NBdata)):\n",
    "        NBdata[i]= userRating[int(testData[i][0])-1]\n",
    "        trueData[i] = testData[i][2]\n",
    "                             \n",
    "    return NBdata,trueData"
   ]
  },
  {
   "cell_type": "code",
   "execution_count": 106,
   "metadata": {
    "collapsed": true
   },
   "outputs": [],
   "source": [
    "\n",
    "def rmseFunc(actual, pred):\n",
    "    rms = sqrt(mean_squared_error(actualValues, NBPedictions))\n",
    "    return rms"
   ]
  },
  {
   "cell_type": "code",
   "execution_count": 107,
   "metadata": {
    "collapsed": true
   },
   "outputs": [],
   "source": [
    "with open('ratings.csv', 'r') as f:\n",
    "        reader = csv.reader(f)\n",
    "        user_id = []\n",
    "        movie_id = []\n",
    "        rating = []\n",
    "        \n",
    "        for row in reader:\n",
    "            user_id.append(row[0])\n",
    "            movie_id.append(row[1])\n",
    "            rating.append(row[2])\n",
    "movie_id = movie_id[1:]\n",
    "rating = rating[1:]\n",
    "user_id = user_id[1:]\n",
    "\n",
    "unique_movies = list(set(movie_id))\n",
    "unique_movies = np.asfarray(unique_movies,int)"
   ]
  },
  {
   "cell_type": "code",
   "execution_count": 108,
   "metadata": {
    "collapsed": true
   },
   "outputs": [],
   "source": [
    "movie_numbers_with_less_than_two_ratings = []\n",
    "for i in unique_movies:\n",
    "    indexes = []\n",
    "    for j in range(len(movie_id)):\n",
    "        if(movie_id[j] == str(int(i))):\n",
    "            indexes.append(j)\n",
    "    if len(indexes) <= 2:\n",
    "        movie_numbers_with_less_than_two_ratings.append(i)\n",
    "movie_ints = [int(i) for i in movie_numbers_with_less_than_two_ratings]"
   ]
  },
  {
   "cell_type": "code",
   "execution_count": 109,
   "metadata": {
    "collapsed": true
   },
   "outputs": [],
   "source": [
    "movie_numbers_with_less_than_five_ratings = []\n",
    "for i in unique_movies:\n",
    "    indexes = []\n",
    "    for j in range(len(movie_id)):\n",
    "        if(movie_id[j] == str(int(i))):\n",
    "            indexes.append(j)\n",
    "    if len(indexes) < 5:\n",
    "        movie_numbers_with_less_than_five_ratings.append(i)"
   ]
  },
  {
   "cell_type": "code",
   "execution_count": 110,
   "metadata": {
    "collapsed": true
   },
   "outputs": [],
   "source": [
    "variance = []\n",
    "for i in unique_movies:\n",
    "    indexes = []\n",
    "    ratings = []\n",
    "    for j in range(len(movie_id)):\n",
    "        if(movie_id[j] == str(int(i))):\n",
    "            indexes.append(j)\n",
    "    for k in indexes:\n",
    "        ratings.append(float(rating[k]))\n",
    "    variance.append(np.var(ratings))"
   ]
  },
  {
   "cell_type": "code",
   "execution_count": 111,
   "metadata": {
    "collapsed": true
   },
   "outputs": [],
   "source": [
    "five_ratings_and_variance = []\n",
    "for i in range(len(unique_movies)):\n",
    "    if unique_movies[i] not in movie_numbers_with_less_than_five_ratings:\n",
    "        if variance[i] > 2:\n",
    "            five_ratings_and_variance.append(i)\n",
    "            \n",
    "five_ratings_and_variance_int = [int(i) for i in five_ratings_and_variance]"
   ]
  },
  {
   "cell_type": "code",
   "execution_count": 112,
   "metadata": {
    "collapsed": true
   },
   "outputs": [],
   "source": [
    "def trim_movies_variance(testset):\n",
    "    removed_testset = []\n",
    "    #print(len(testset))\n",
    "    for j in range(len(testset)):\n",
    "        if int(testset[j][1]) in five_ratings_and_variance_int:\n",
    "            #print('yes!')\n",
    "            removed_testset.append(testset[j])\n",
    "    return removed_testset\n",
    "\n",
    "def trim_movies_greater_than_2(testset):\n",
    "    removed_testset = []\n",
    "    #print(len(testset))\n",
    "    for j in range(len(testset)):\n",
    "        if int(testset[j][1]) not in movie_ints:\n",
    "            #print('yes!')\n",
    "            removed_testset.append(testset[j])\n",
    "    return removed_testset\n",
    "\n",
    "def trim_movies_less_or_equal_to_2(testset):\n",
    "    removed_testset = []\n",
    "    #print(len(testset))\n",
    "    for j in range(len(testset)):\n",
    "        if int(testset[j][1]) in movie_ints:\n",
    "            #print('yes!')\n",
    "            removed_testset.append(testset[j])\n",
    "    return removed_testset"
   ]
  },
  {
   "cell_type": "markdown",
   "metadata": {},
   "source": [
    "### Question 30:"
   ]
  },
  {
   "cell_type": "code",
   "execution_count": 113,
   "metadata": {
    "collapsed": true
   },
   "outputs": [],
   "source": [
    "test_rmse_avg_full = []\n",
    "test_rmse = []\n",
    "for trainset, testset in kf.split(data):\n",
    "\n",
    "    NBPedictions, actualValues = predFunc(testset)\n",
    "    foldRMSE = rmseFunc(actualValues, NBPedictions)\n",
    "    test_rmse_avg_full.append(foldRMSE)\n",
    "avgRMSE = np.mean(test_rmse_avg_full)  "
   ]
  },
  {
   "cell_type": "code",
   "execution_count": 114,
   "metadata": {},
   "outputs": [
    {
     "name": "stdout",
     "output_type": "stream",
     "text": [
      "Average RMSE using 10-fold cross validation is 0.955399969420791\n"
     ]
    }
   ],
   "source": [
    "print \"Average RMSE using 10-fold cross validation is\", avgRMSE"
   ]
  },
  {
   "cell_type": "markdown",
   "metadata": {},
   "source": [
    "### Question 31"
   ]
  },
  {
   "cell_type": "code",
   "execution_count": 115,
   "metadata": {},
   "outputs": [
    {
     "name": "stdout",
     "output_type": "stream",
     "text": [
      "Average RMSE for Popular Trimming is [0.9479159376226929, 0.9500132617603072, 0.953401214486397, 0.9559401990417812, 0.9544891147813362, 0.939590553581257, 0.9590135332746302, 0.9648749754740222, 0.9705340033017279, 0.9582269008837585, 0.9633877930220439, 0.9534990871954718, 0.9617683598897666, 0.9495135411874591, 0.9512487602241385, 0.955765050663135, 0.9421844494222529, 0.9509958060190219, 0.9434086050291037, 0.9494066382035112]\n"
     ]
    }
   ],
   "source": [
    "\n",
    "for trainset, testset in kf.split(data):\n",
    "    removed_testset = trim_movies_greater_than_2(testset)\n",
    "    NBPedictions, actualValues = predFunc(removed_testset)\n",
    "    foldRMSE = rmseFunc(actualValues, NBPedictions)\n",
    "    test_rmse_avg_full.append(foldRMSE)\n",
    "avgRMSE = np.mean(test_rmse_avg_full)  \n",
    "print \"Average RMSE for Popular Trimming is\", test_rmse_avg_full"
   ]
  },
  {
   "cell_type": "code",
   "execution_count": 4,
   "metadata": {},
   "outputs": [
    {
     "name": "stdout",
     "output_type": "stream",
     "text": [
      "0.9537588892531907\n"
     ]
    }
   ],
   "source": [
    "rmse = [0.9479159376226929, 0.9500132617603072, 0.953401214486397, 0.9559401990417812, 0.9544891147813362, 0.939590553581257, 0.9590135332746302, 0.9648749754740222, 0.9705340033017279, 0.9582269008837585, 0.9633877930220439, 0.9534990871954718, 0.9617683598897666, 0.9495135411874591, 0.9512487602241385, 0.955765050663135, 0.9421844494222529, 0.9509958060190219, 0.9434086050291037, 0.9494066382035112]\n",
    "avgRMSE = np.mean(rmse)\n",
    "print avgRMSE"
   ]
  },
  {
   "cell_type": "markdown",
   "metadata": {},
   "source": [
    "### Question 32"
   ]
  },
  {
   "cell_type": "code",
   "execution_count": 116,
   "metadata": {},
   "outputs": [
    {
     "name": "stdout",
     "output_type": "stream",
     "text": [
      "Average RMSE for UnPopular Trimming is [0.9479159376226929, 0.9500132617603072, 0.953401214486397, 0.9559401990417812, 0.9544891147813362, 0.939590553581257, 0.9590135332746302, 0.9648749754740222, 0.9705340033017279, 0.9582269008837585, 0.9633877930220439, 0.9534990871954718, 0.9617683598897666, 0.9495135411874591, 0.9512487602241385, 0.955765050663135, 0.9421844494222529, 0.9509958060190219, 0.9434086050291037, 0.9494066382035112, 0.9804306322514957, 1.040306220792542, 0.9222658064906768, 0.9941900727804233, 1.0262018452384185, 1.046562836748772, 1.0152266712317328, 1.0110297082882507, 1.053919930595165, 1.0080449912419482]\n"
     ]
    }
   ],
   "source": [
    "\n",
    "for trainset, testset in kf.split(data):\n",
    "    removed_testset = trim_movies_less_or_equal_to_2(testset)\n",
    "    NBPedictions, actualValues = predFunc(removed_testset)\n",
    "    foldRMSE = rmseFunc(actualValues, NBPedictions)\n",
    "    test_rmse_avg_full.append(foldRMSE)\n",
    "avgRMSE = np.mean(test_rmse_avg_full)  \n",
    "print \"Average RMSE for UnPopular Trimming is\", test_rmse_avg_full"
   ]
  },
  {
   "cell_type": "code",
   "execution_count": 5,
   "metadata": {},
   "outputs": [
    {
     "name": "stdout",
     "output_type": "stream",
     "text": [
      "0.9724452166907747\n"
     ]
    }
   ],
   "source": [
    "rmse =[0.9479159376226929, 0.9500132617603072, 0.953401214486397, 0.9559401990417812, 0.9544891147813362, 0.939590553581257, 0.9590135332746302, 0.9648749754740222, 0.9705340033017279, 0.9582269008837585, 0.9633877930220439, 0.9534990871954718, 0.9617683598897666, 0.9495135411874591, 0.9512487602241385, 0.955765050663135, 0.9421844494222529, 0.9509958060190219, 0.9434086050291037, 0.9494066382035112, 0.9804306322514957, 1.040306220792542, 0.9222658064906768, 0.9941900727804233, 1.0262018452384185, 1.046562836748772, 1.0152266712317328, 1.0110297082882507, 1.053919930595165, 1.0080449912419482]\n",
    "avgRMSE = np.mean(rmse)\n",
    "print avgRMSE"
   ]
  },
  {
   "cell_type": "markdown",
   "metadata": {},
   "source": [
    "### Question 33"
   ]
  },
  {
   "cell_type": "code",
   "execution_count": 120,
   "metadata": {},
   "outputs": [
    {
     "name": "stdout",
     "output_type": "stream",
     "text": [
      "Average RMSE for Variance Trimming is 1.013036192443812\n"
     ]
    }
   ],
   "source": [
    "\n",
    "for trainset, testset in kf.split(data):\n",
    "    removed_testset = trim_movies_variance(testset)\n",
    "    NBPedictions, actualValues = predFunc(removed_testset)\n",
    "    foldRMSE = rmseFunc(actualValues, NBPedictions)\n",
    "    test_rmse_avg_full.append(foldRMSE)\n",
    "avgRMSE = np.mean(test_rmse_avg_full)  \n",
    "print \"Average RMSE for Variance Trimming is\", avgRMSE"
   ]
  },
  {
   "cell_type": "markdown",
   "metadata": {},
   "source": [
    "### ROC Plotting"
   ]
  },
  {
   "cell_type": "code",
   "execution_count": 121,
   "metadata": {
    "collapsed": true
   },
   "outputs": [],
   "source": [
    "\n",
    "trainset, testset = train_test_split(data, test_size=.10)\n",
    "\n",
    "NBPedictions, actualValues = predFunc(testset)"
   ]
  },
  {
   "cell_type": "code",
   "execution_count": 123,
   "metadata": {},
   "outputs": [
    {
     "data": {
      "image/png": "[encoded data removed]",
      "text/plain": [
       "<matplotlib.figure.Figure at 0x116e44890>"
      ]
     },
     "metadata": {},
     "output_type": "display_data"
    },
    {
     "name": "stdout",
     "output_type": "stream",
     "text": [
      " Area under the curve for Threshold =  2.5 is,  0.7148580956680047\n"
     ]
    },
    {
     "data": {
      "image/png": "[encoded data removed]",
      "text/plain": [
       "<matplotlib.figure.Figure at 0x1145a2550>"
      ]
     },
     "metadata": {},
     "output_type": "display_data"
    },
    {
     "name": "stdout",
     "output_type": "stream",
     "text": [
      " Area under the curve for Threshold =  3 is,  0.7322390714994484\n"
     ]
    },
    {
     "data": {
      "image/png": "[encoded data removed]",
      "text/plain": [
       "<matplotlib.figure.Figure at 0x116a53050>"
      ]
     },
     "metadata": {},
     "output_type": "display_data"
    },
    {
     "name": "stdout",
     "output_type": "stream",
     "text": [
      " Area under the curve for Threshold =  3.5 is,  0.7067691960171931\n"
     ]
    },
    {
     "data": {
      "image/png": "[encoded data removed]",
      "text/plain": [
       "<matplotlib.figure.Figure at 0x15e7e03610>"
      ]
     },
     "metadata": {},
     "output_type": "display_data"
    },
    {
     "name": "stdout",
     "output_type": "stream",
     "text": [
      " Area under the curve for Threshold =  4 is,  0.7179993075359645\n"
     ]
    }
   ],
   "source": [
    "\n",
    "predValue = []\n",
    "thresholds = [2.5,3,3.5,4]\n",
    "for threshold in thresholds:\n",
    "    trueValue = []\n",
    "    for i in range(len(testset)):\n",
    "        if testset[i][2] >= threshold: #threshold\n",
    "            trueValue.append(1)\n",
    "        else:\n",
    "            trueValue.append(0)\n",
    "\n",
    "\n",
    "    fpr, tpr, thresholds = roc_curve(trueValue,NBPedictions)\n",
    "    roc_auc = auc(fpr, tpr)\n",
    "    plt.figure()\n",
    "    plt.plot(fpr, tpr, label='ROC curve (area = %0.2f)' % roc_auc)\n",
    "    plt.xlabel('False Positive Rate')\n",
    "    plt.ylabel('True Positive Rate')\n",
    "    plt.title('Receiver operating characteristic for threshold = ' + str(threshold))\n",
    "    plt.legend(loc=\"lower right\")\n",
    "    plt.show()\n",
    "    if savePlots:\n",
    "         plt.savefig(\"roc_naiveBayes\", format='png') \n",
    "    plt.show()\n",
    "    print \" Area under the curve for Threshold = \",threshold, \"is, \", roc_auc"
   ]
  },
  {
   "cell_type": "code",
   "execution_count": null,
   "metadata": {
    "collapsed": true
   },
   "outputs": [],
   "source": []
  }
 ],
 "metadata": {
  "kernelspec": {
   "display_name": "Python 2",
   "language": "python",
   "name": "python2"
  },
  "language_info": {
   "codemirror_mode": {
    "name": "ipython",
    "version": 2
   },
   "file_extension": ".py",
   "mimetype": "text/x-python",
   "name": "python",
   "nbconvert_exporter": "python",
   "pygments_lexer": "ipython2",
   "version": "2.7.13"
  }
 },
 "nbformat": 4,
 "nbformat_minor": 2
}
